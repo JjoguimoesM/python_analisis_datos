{
 "cells": [
  {
   "cell_type": "code",
   "execution_count": 59,
   "id": "2fc79cfe-744d-41ff-a258-91ccb2b2cb8c",
   "metadata": {},
   "outputs": [
    {
     "name": "stdout",
     "output_type": "stream",
     "text": [
      "\n",
      "Confirmar lectura de Dataset y mostrar en pantalla\n",
      "\n"
     ]
    },
    {
     "data": {
      "text/html": [
       "<div>\n",
       "<style scoped>\n",
       "    .dataframe tbody tr th:only-of-type {\n",
       "        vertical-align: middle;\n",
       "    }\n",
       "\n",
       "    .dataframe tbody tr th {\n",
       "        vertical-align: top;\n",
       "    }\n",
       "\n",
       "    .dataframe thead th {\n",
       "        text-align: right;\n",
       "    }\n",
       "</style>\n",
       "<table border=\"1\" class=\"dataframe\">\n",
       "  <thead>\n",
       "    <tr style=\"text-align: right;\">\n",
       "      <th></th>\n",
       "      <th>Car_Name</th>\n",
       "      <th>Year</th>\n",
       "      <th>Selling_Price</th>\n",
       "      <th>Present_Price</th>\n",
       "      <th>Kms_Driven</th>\n",
       "      <th>Fuel_Type</th>\n",
       "      <th>Seller_Type</th>\n",
       "      <th>Transmission</th>\n",
       "      <th>Owner</th>\n",
       "    </tr>\n",
       "  </thead>\n",
       "  <tbody>\n",
       "    <tr>\n",
       "      <th>0</th>\n",
       "      <td>ritz</td>\n",
       "      <td>2014</td>\n",
       "      <td>3.35</td>\n",
       "      <td>5.59</td>\n",
       "      <td>27000</td>\n",
       "      <td>Petrol</td>\n",
       "      <td>Dealer</td>\n",
       "      <td>Manual</td>\n",
       "      <td>0</td>\n",
       "    </tr>\n",
       "    <tr>\n",
       "      <th>1</th>\n",
       "      <td>sx4</td>\n",
       "      <td>2013</td>\n",
       "      <td>4.75</td>\n",
       "      <td>9.54</td>\n",
       "      <td>43000</td>\n",
       "      <td>Diesel</td>\n",
       "      <td>Dealer</td>\n",
       "      <td>Manual</td>\n",
       "      <td>0</td>\n",
       "    </tr>\n",
       "    <tr>\n",
       "      <th>2</th>\n",
       "      <td>ciaz</td>\n",
       "      <td>2017</td>\n",
       "      <td>7.25</td>\n",
       "      <td>9.85</td>\n",
       "      <td>6900</td>\n",
       "      <td>Petrol</td>\n",
       "      <td>Dealer</td>\n",
       "      <td>Manual</td>\n",
       "      <td>0</td>\n",
       "    </tr>\n",
       "    <tr>\n",
       "      <th>3</th>\n",
       "      <td>wagon r</td>\n",
       "      <td>2011</td>\n",
       "      <td>2.85</td>\n",
       "      <td>4.15</td>\n",
       "      <td>5200</td>\n",
       "      <td>Petrol</td>\n",
       "      <td>Dealer</td>\n",
       "      <td>Manual</td>\n",
       "      <td>0</td>\n",
       "    </tr>\n",
       "    <tr>\n",
       "      <th>4</th>\n",
       "      <td>swift</td>\n",
       "      <td>2014</td>\n",
       "      <td>4.60</td>\n",
       "      <td>6.87</td>\n",
       "      <td>42450</td>\n",
       "      <td>Diesel</td>\n",
       "      <td>Dealer</td>\n",
       "      <td>Manual</td>\n",
       "      <td>0</td>\n",
       "    </tr>\n",
       "  </tbody>\n",
       "</table>\n",
       "</div>"
      ],
      "text/plain": [
       "  Car_Name  Year  Selling_Price  Present_Price  Kms_Driven Fuel_Type  \\\n",
       "0     ritz  2014           3.35           5.59       27000    Petrol   \n",
       "1      sx4  2013           4.75           9.54       43000    Diesel   \n",
       "2     ciaz  2017           7.25           9.85        6900    Petrol   \n",
       "3  wagon r  2011           2.85           4.15        5200    Petrol   \n",
       "4    swift  2014           4.60           6.87       42450    Diesel   \n",
       "\n",
       "  Seller_Type Transmission  Owner  \n",
       "0      Dealer       Manual      0  \n",
       "1      Dealer       Manual      0  \n",
       "2      Dealer       Manual      0  \n",
       "3      Dealer       Manual      0  \n",
       "4      Dealer       Manual      0  "
      ]
     },
     "execution_count": 59,
     "metadata": {},
     "output_type": "execute_result"
    }
   ],
   "source": [
    "## Importamos las librerias, clases y les asignamos un alias para utilizar en codigo posteriormente\n",
    "import pandas as pd\n",
    "import numpy as np \n",
    "import seaborn as sns\n",
    "import matplotlib.pyplot as plt\n",
    "\n",
    "from sklearn import metrics\n",
    "from sklearn.model_selection import train_test_split\n",
    "from sklearn.linear_model import LinearRegression\n",
    "from sklearn.metrics import classification_report, confusion_matrix\n",
    "\n",
    "## Leer los datos del archivo csv\n",
    "data_jmojica = pd.read_csv('car_data.csv')\n",
    "\n",
    "## Mostar dataset\n",
    "print()\n",
    "print(\"Confirmar lectura de Dataset y mostrar en pantalla\")\n",
    "print()\n",
    "data_jmojica.head()"
   ]
  },
  {
   "cell_type": "code",
   "execution_count": 60,
   "id": "3d23f94b-a48c-4751-9c5c-9200963343d6",
   "metadata": {},
   "outputs": [
    {
     "data": {
      "text/html": [
       "<div>\n",
       "<style scoped>\n",
       "    .dataframe tbody tr th:only-of-type {\n",
       "        vertical-align: middle;\n",
       "    }\n",
       "\n",
       "    .dataframe tbody tr th {\n",
       "        vertical-align: top;\n",
       "    }\n",
       "\n",
       "    .dataframe thead th {\n",
       "        text-align: right;\n",
       "    }\n",
       "</style>\n",
       "<table border=\"1\" class=\"dataframe\">\n",
       "  <thead>\n",
       "    <tr style=\"text-align: right;\">\n",
       "      <th></th>\n",
       "      <th>Year</th>\n",
       "      <th>Selling_Price</th>\n",
       "      <th>Present_Price</th>\n",
       "      <th>Kms_Driven</th>\n",
       "      <th>Owner</th>\n",
       "    </tr>\n",
       "  </thead>\n",
       "  <tbody>\n",
       "    <tr>\n",
       "      <th>count</th>\n",
       "      <td>301.000000</td>\n",
       "      <td>301.000000</td>\n",
       "      <td>301.000000</td>\n",
       "      <td>301.000000</td>\n",
       "      <td>301.000000</td>\n",
       "    </tr>\n",
       "    <tr>\n",
       "      <th>mean</th>\n",
       "      <td>2013.627907</td>\n",
       "      <td>4.661296</td>\n",
       "      <td>7.628472</td>\n",
       "      <td>36947.205980</td>\n",
       "      <td>0.043189</td>\n",
       "    </tr>\n",
       "    <tr>\n",
       "      <th>std</th>\n",
       "      <td>2.891554</td>\n",
       "      <td>5.082812</td>\n",
       "      <td>8.644115</td>\n",
       "      <td>38886.883882</td>\n",
       "      <td>0.247915</td>\n",
       "    </tr>\n",
       "    <tr>\n",
       "      <th>min</th>\n",
       "      <td>2003.000000</td>\n",
       "      <td>0.100000</td>\n",
       "      <td>0.320000</td>\n",
       "      <td>500.000000</td>\n",
       "      <td>0.000000</td>\n",
       "    </tr>\n",
       "    <tr>\n",
       "      <th>25%</th>\n",
       "      <td>2012.000000</td>\n",
       "      <td>0.900000</td>\n",
       "      <td>1.200000</td>\n",
       "      <td>15000.000000</td>\n",
       "      <td>0.000000</td>\n",
       "    </tr>\n",
       "    <tr>\n",
       "      <th>50%</th>\n",
       "      <td>2014.000000</td>\n",
       "      <td>3.600000</td>\n",
       "      <td>6.400000</td>\n",
       "      <td>32000.000000</td>\n",
       "      <td>0.000000</td>\n",
       "    </tr>\n",
       "    <tr>\n",
       "      <th>75%</th>\n",
       "      <td>2016.000000</td>\n",
       "      <td>6.000000</td>\n",
       "      <td>9.900000</td>\n",
       "      <td>48767.000000</td>\n",
       "      <td>0.000000</td>\n",
       "    </tr>\n",
       "    <tr>\n",
       "      <th>max</th>\n",
       "      <td>2018.000000</td>\n",
       "      <td>35.000000</td>\n",
       "      <td>92.600000</td>\n",
       "      <td>500000.000000</td>\n",
       "      <td>3.000000</td>\n",
       "    </tr>\n",
       "  </tbody>\n",
       "</table>\n",
       "</div>"
      ],
      "text/plain": [
       "              Year  Selling_Price  Present_Price     Kms_Driven       Owner\n",
       "count   301.000000     301.000000     301.000000     301.000000  301.000000\n",
       "mean   2013.627907       4.661296       7.628472   36947.205980    0.043189\n",
       "std       2.891554       5.082812       8.644115   38886.883882    0.247915\n",
       "min    2003.000000       0.100000       0.320000     500.000000    0.000000\n",
       "25%    2012.000000       0.900000       1.200000   15000.000000    0.000000\n",
       "50%    2014.000000       3.600000       6.400000   32000.000000    0.000000\n",
       "75%    2016.000000       6.000000       9.900000   48767.000000    0.000000\n",
       "max    2018.000000      35.000000      92.600000  500000.000000    3.000000"
      ]
     },
     "execution_count": 60,
     "metadata": {},
     "output_type": "execute_result"
    }
   ],
   "source": [
    "## Descripción de los datos\n",
    "data_jmojica.describe()"
   ]
  },
  {
   "cell_type": "code",
   "execution_count": 79,
   "id": "737e5279-bc24-4d65-b968-5223d39c1b9f",
   "metadata": {},
   "outputs": [
    {
     "name": "stdout",
     "output_type": "stream",
     "text": [
      "\n",
      "Evaluando valores faltantes en el df\n",
      "\n",
      "¿Existen valores nulos en el df?\n",
      "Rta: False\n",
      "\n"
     ]
    }
   ],
   "source": [
    "## Buscar datos nulos en el df\n",
    "resp1 = df.isnull().any().any()\n",
    "print()\n",
    "print (\"Evaluando valores faltantes en el df\")\n",
    "print()\n",
    "print(\"¿Existen valores nulos en el df?\")\n",
    "print(f\"Rta: {resp1}\")\n",
    "print()\n",
    "## Buscar datos vacios en el df\n",
    "#print(df.isna().sum())"
   ]
  },
  {
   "cell_type": "code",
   "execution_count": 80,
   "id": "ff51615e-f852-4121-becb-45375db5c684",
   "metadata": {},
   "outputs": [
    {
     "name": "stdout",
     "output_type": "stream",
     "text": [
      "Cantidad de Registros con cero en Year:  0\n",
      "Cantidad de Registros con cero en Selling_Price:  0\n",
      "Cantidad de Registros con cero en Present_Price:  0\n",
      "Cantidad de Registros con cero en Kms_Driven:  0\n"
     ]
    }
   ],
   "source": [
    "print(\"Cantidad de Registros con cero en Year: \",data_jmojica['Year'].isin([0]).sum())\n",
    "print(\"Cantidad de Registros con cero en Selling_Price: \",data_jmojica['Selling_Price'].isin([0]).sum())\n",
    "print(\"Cantidad de Registros con cero en Present_Price: \",data_jmojica['Present_Price'].isin([0]).sum())\n",
    "print(\"Cantidad de Registros con cero en Kms_Driven: \",data_jmojica['Kms_Driven'].isin([0]).sum())"
   ]
  },
  {
   "cell_type": "code",
   "execution_count": 86,
   "id": "cdbeacae-9ccb-4f9d-b848-321376d1d1d7",
   "metadata": {},
   "outputs": [
    {
     "data": {
      "text/plain": [
       "Text(0.5, 1.0, 'Identificación de Datos Atípicos')"
      ]
     },
     "execution_count": 86,
     "metadata": {},
     "output_type": "execute_result"
    },
    {
     "data": {
      "image/png": "[encoded data removed]",
      "text/plain": [
       "<Figure size 600x300 with 1 Axes>"
      ]
     },
     "metadata": {},
     "output_type": "display_data"
    }
   ],
   "source": [
    "## Omitiendo datos atipicos\n",
    "year_min = 2010\n",
    "data_jmojica=data_jmojica[(data_jmojica['Year']>year_min)]\n",
    "\n",
    "## Reprocesando validacion de datos atipicos\n",
    "plt.figure(figsize=(6, 3))\n",
    "sns.boxplot(x=data_jmojica['Year'])\n",
    "plt.title('Identificación de Datos Atípicos', fontsize=10 )"
   ]
  },
  {
   "cell_type": "code",
   "execution_count": 87,
   "id": "42a28638-7531-4088-a3ff-735a39077e95",
   "metadata": {},
   "outputs": [
    {
     "data": {
      "text/plain": [
       "Text(0.5, 1.0, 'Identificación de Datos Atípicos')"
      ]
     },
     "execution_count": 87,
     "metadata": {},
     "output_type": "execute_result"
    },
    {
     "data": {
      "image/png": "[encoded data removed]",
      "text/plain": [
       "<Figure size 600x300 with 1 Axes>"
      ]
     },
     "metadata": {},
     "output_type": "display_data"
    }
   ],
   "source": [
    "#Identificación de Datos Atípicos\n",
    "\n",
    "plt.figure(figsize=(6, 3))\n",
    "sns.boxplot(x=data_jmojica['Selling_Price'])\n",
    "plt.title('Identificación de Datos Atípicos', fontsize=10 )"
   ]
  },
  {
   "cell_type": "code",
   "execution_count": 84,
   "id": "24bba162-e0ee-4d34-be95-2ba063893aa0",
   "metadata": {},
   "outputs": [
    {
     "name": "stdout",
     "output_type": "stream",
     "text": [
      "<class 'pandas.core.frame.DataFrame'>\n",
      "Index: 260 entries, 0 to 300\n",
      "Data columns (total 9 columns):\n",
      " #   Column         Non-Null Count  Dtype  \n",
      "---  ------         --------------  -----  \n",
      " 0   Car_Name       260 non-null    object \n",
      " 1   Year           260 non-null    int64  \n",
      " 2   Selling_Price  260 non-null    float64\n",
      " 3   Present_Price  260 non-null    float64\n",
      " 4   Kms_Driven     260 non-null    int64  \n",
      " 5   Fuel_Type      260 non-null    object \n",
      " 6   Seller_Type    260 non-null    object \n",
      " 7   Transmission   260 non-null    object \n",
      " 8   Owner          260 non-null    int64  \n",
      "dtypes: float64(2), int64(3), object(4)\n",
      "memory usage: 20.3+ KB\n"
     ]
    }
   ],
   "source": [
    "data_jmojica.info()"
   ]
  },
  {
   "cell_type": "code",
   "execution_count": 95,
   "id": "ca020eb3-b700-4291-9475-a1c8eb4b13da",
   "metadata": {},
   "outputs": [
    {
     "data": {
      "text/plain": [
       "Selling_Price\n",
       "0.60     8\n",
       "4.50     7\n",
       "0.45     7\n",
       "5.25     6\n",
       "4.75     5\n",
       "        ..\n",
       "20.75    1\n",
       "3.45     1\n",
       "5.90     1\n",
       "12.50    1\n",
       "11.50    1\n",
       "Name: count, Length: 140, dtype: int64"
      ]
     },
     "execution_count": 95,
     "metadata": {},
     "output_type": "execute_result"
    }
   ],
   "source": [
    "data_jmojica['Selling_Price'].value_counts()"
   ]
  },
  {
   "cell_type": "code",
   "execution_count": 118,
   "id": "c7d51458-defc-4a16-a3a4-420ea12782b7",
   "metadata": {},
   "outputs": [],
   "source": [
    "## Extraemos los datos que nos son numericos, ya que el modelo genera error al intentar procesaor predicciones de cadenas de texto\n",
    "X = data_jmojica.drop(['Car_Name','Selling_Price','Fuel_Type','Seller_Type','Transmission'], axis=1)\n",
    "Y = data_jmojica['Selling_Price']\n",
    "\n",
    "# Asegurar que haya al menos 2 ejemplos por clase en ambos conjuntos de datos\n",
    "X_train, X_test, Y_train, Y_test = train_test_split(X, Y, test_size=0.33, random_state=0)"
   ]
  },
  {
   "cell_type": "code",
   "execution_count": 119,
   "id": "8e1a10c1-383d-466b-9cb5-042459033132",
   "metadata": {},
   "outputs": [],
   "source": [
    "modelo_linear = LinearRegression()\n",
    "modelo_linear.fit (X_train , Y_train)\n",
    "\n",
    "prediccion = modelo_linear.predict(X_test)"
   ]
  },
  {
   "cell_type": "code",
   "execution_count": 123,
   "id": "014ba343-d5e1-451d-b245-f9748e06a3a7",
   "metadata": {},
   "outputs": [
    {
     "name": "stdout",
     "output_type": "stream",
     "text": [
      "[ 7.34388854  1.81475218  9.8150975  10.37083596  4.32790731  6.36012935\n",
      "  6.926807    7.54943419  4.76641958 -2.31038493  5.13758789  4.03174528\n",
      "  9.61023474  1.0882681   5.33605792 14.92940814  7.06359727  5.31964651\n",
      "  2.10084567 -0.02447965  3.46440707  5.92613572  3.07094739  4.27245689\n",
      "  7.82848192  0.46233043  2.93622509  6.24893467  4.06148881  9.61662533\n",
      "  2.53412431  2.51734085  1.26697198  0.27640713  4.14390179  0.35221522\n",
      "  0.77285625  4.04321805  4.10184019  1.75620645  8.92905357  1.52530982\n",
      "  4.12310042  1.22196411  7.4251451   5.21533968  0.44102065  4.04926274\n",
      "  2.18711863  0.87680086  4.60536157 20.77126054 -0.11659229  3.68139525\n",
      "  9.86332892 10.8112088   1.97592212  2.12353101  4.1724911   2.3791546\n",
      "  2.13229149  3.39521391  4.10018176  7.15437817 -0.3485892   0.75775381\n",
      " -0.07413397  5.5736014   2.29471904  4.47114714  6.14861341  0.13981141\n",
      "  5.24161569  9.3226582   5.95463682  1.95514784  7.50082444  0.35353261\n",
      " 20.77126054 -0.17616342  5.70584226  1.11415794  4.05847953  4.21437848\n",
      " 11.27073926  8.14044879]\n"
     ]
    }
   ],
   "source": [
    "print (prediccion)"
   ]
  },
  {
   "cell_type": "code",
   "execution_count": 132,
   "id": "cc788b4d-ca52-4511-8c4c-0dfd0ad2c41e",
   "metadata": {},
   "outputs": [
    {
     "name": "stdout",
     "output_type": "stream",
     "text": [
      "\n",
      "Grafica de dispersion de los data_jmojica y la linea de regresion\n",
      "\n"
     ]
    },
    {
     "data": {
      "image/png": "[encoded data removed]",
      "text/plain": [
       "<Figure size 2000x900 with 1 Axes>"
      ]
     },
     "metadata": {},
     "output_type": "display_data"
    }
   ],
   "source": [
    "## Grafica de dispersion de los data_jmojica y la linea de regresion\n",
    "print()\n",
    "print(\"Grafica de dispersion de los data_jmojica y la linea de regresion\")\n",
    "print()\n",
    "plt.scatter(x, y, color='blue', label='data_jmojica')\n",
    "plt.plot(x, modelo.predict(x), color='red', label='Linea de regresion')\n",
    "plt.rcParams['figure.figsize'] = (20, 9)\n",
    "plt.xlabel('X')\n",
    "plt.xlabel('Y')\n",
    "plt.legend()\n",
    "plt.show()"
   ]
  },
  {
   "cell_type": "code",
   "execution_count": 135,
   "id": "6769bdee-137d-44e1-994c-5b76de8f7367",
   "metadata": {},
   "outputs": [
    {
     "name": "stdout",
     "output_type": "stream",
     "text": [
      "\n",
      " Error Cuadratico Medio (MSE) : 1.5586875819358927\n",
      "\n",
      " Raiz del Error Cuadratico Medio (RMSE) : 1.248474101427776\n",
      "\n",
      " Error Absoluto Medio (MAE) : 0.9637227029655001\n",
      "\n",
      " Coeficiente de Determinacion (R^2) : 0.9205257552412565\n"
     ]
    }
   ],
   "source": [
    "# Desempeño del modelo de regresión\n",
    "\n",
    "#print(classification_report(Y_test,prediccion)) ## ValueError: continuous is not supported\n",
    "\n",
    "## Calcular las metricas\n",
    "# Calcular MSE\n",
    "mse = mean_squared_error(Y_test,prediccion)\n",
    "# Calcular RMSE\n",
    "rmse = np.sqrt(mse)\n",
    "# Calcular MAE\n",
    "mae = mean_absolute_error(Y_test,prediccion)\n",
    "# Calcular R^2\n",
    "r2 = r2_score(Y_test,prediccion)\n",
    "\n",
    "## Imprimir las metricas ( MSE, RMSE, MAE, R^2)\n",
    "print()\n",
    "print(f\" Error Cuadratico Medio (MSE) : {mse}\")\n",
    "print()\n",
    "print(f\" Raiz del Error Cuadratico Medio (RMSE) : {rmse}\")\n",
    "print()\n",
    "print(f\" Error Absoluto Medio (MAE) : {mae}\")\n",
    "print()\n",
    "print(f\" Coeficiente de Determinacion (R^2) : {r2}\")\n"
   ]
  },
  {
   "cell_type": "code",
   "execution_count": null,
   "id": "e2c606f6-0279-4d17-a302-3bb04f36cf30",
   "metadata": {},
   "outputs": [],
   "source": []
  }
 ],
 "metadata": {
  "kernelspec": {
   "display_name": "Python 3 (ipykernel)",
   "language": "python",
   "name": "python3"
  },
  "language_info": {
   "codemirror_mode": {
    "name": "ipython",
    "version": 3
   },
   "file_extension": ".py",
   "mimetype": "text/x-python",
   "name": "python",
   "nbconvert_exporter": "python",
   "pygments_lexer": "ipython3",
   "version": "3.11.7"
  }
 },
 "nbformat": 4,
 "nbformat_minor": 5
}
